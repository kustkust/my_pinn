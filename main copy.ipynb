{
 "cells": [
  {
   "cell_type": "code",
   "execution_count": 2,
   "metadata": {},
   "outputs": [
    {
     "ename": "ModuleNotFoundError",
     "evalue": "No module named 'ipympl'",
     "output_type": "error",
     "traceback": [
      "\u001b[1;31m---------------------------------------------------------------------------\u001b[0m",
      "\u001b[1;31mModuleNotFoundError\u001b[0m                       Traceback (most recent call last)",
      "Cell \u001b[1;32mIn[2], line 3\u001b[0m\n\u001b[0;32m      1\u001b[0m get_ipython()\u001b[38;5;241m.\u001b[39mrun_line_magic(\u001b[38;5;124m'\u001b[39m\u001b[38;5;124mload_ext\u001b[39m\u001b[38;5;124m'\u001b[39m, \u001b[38;5;124m'\u001b[39m\u001b[38;5;124mautoreload\u001b[39m\u001b[38;5;124m'\u001b[39m)\n\u001b[0;32m      2\u001b[0m get_ipython()\u001b[38;5;241m.\u001b[39mrun_line_magic(\u001b[38;5;124m'\u001b[39m\u001b[38;5;124mautoreload\u001b[39m\u001b[38;5;124m'\u001b[39m, \u001b[38;5;124m'\u001b[39m\u001b[38;5;124m2\u001b[39m\u001b[38;5;124m'\u001b[39m)\n\u001b[1;32m----> 3\u001b[0m \u001b[43mget_ipython\u001b[49m\u001b[43m(\u001b[49m\u001b[43m)\u001b[49m\u001b[38;5;241;43m.\u001b[39;49m\u001b[43mrun_line_magic\u001b[49m\u001b[43m(\u001b[49m\u001b[38;5;124;43m'\u001b[39;49m\u001b[38;5;124;43mmatplotlib\u001b[39;49m\u001b[38;5;124;43m'\u001b[39;49m\u001b[43m,\u001b[49m\u001b[43m \u001b[49m\u001b[38;5;124;43m'\u001b[39;49m\u001b[38;5;124;43mwidget\u001b[39;49m\u001b[38;5;124;43m'\u001b[39;49m\u001b[43m)\u001b[49m\n",
      "File \u001b[1;32mc:\\Users\\kust\\miniconda3\\lib\\site-packages\\IPython\\core\\interactiveshell.py:2417\u001b[0m, in \u001b[0;36mInteractiveShell.run_line_magic\u001b[1;34m(self, magic_name, line, _stack_depth)\u001b[0m\n\u001b[0;32m   2415\u001b[0m     kwargs[\u001b[39m'\u001b[39m\u001b[39mlocal_ns\u001b[39m\u001b[39m'\u001b[39m] \u001b[39m=\u001b[39m \u001b[39mself\u001b[39m\u001b[39m.\u001b[39mget_local_scope(stack_depth)\n\u001b[0;32m   2416\u001b[0m \u001b[39mwith\u001b[39;00m \u001b[39mself\u001b[39m\u001b[39m.\u001b[39mbuiltin_trap:\n\u001b[1;32m-> 2417\u001b[0m     result \u001b[39m=\u001b[39m fn(\u001b[39m*\u001b[39margs, \u001b[39m*\u001b[39m\u001b[39m*\u001b[39mkwargs)\n\u001b[0;32m   2419\u001b[0m \u001b[39m# The code below prevents the output from being displayed\u001b[39;00m\n\u001b[0;32m   2420\u001b[0m \u001b[39m# when using magics with decodator @output_can_be_silenced\u001b[39;00m\n\u001b[0;32m   2421\u001b[0m \u001b[39m# when the last Python token in the expression is a ';'.\u001b[39;00m\n\u001b[0;32m   2422\u001b[0m \u001b[39mif\u001b[39;00m \u001b[39mgetattr\u001b[39m(fn, magic\u001b[39m.\u001b[39mMAGIC_OUTPUT_CAN_BE_SILENCED, \u001b[39mFalse\u001b[39;00m):\n",
      "File \u001b[1;32mc:\\Users\\kust\\miniconda3\\lib\\site-packages\\IPython\\core\\magics\\pylab.py:99\u001b[0m, in \u001b[0;36mPylabMagics.matplotlib\u001b[1;34m(self, line)\u001b[0m\n\u001b[0;32m     97\u001b[0m     \u001b[39mprint\u001b[39m(\u001b[39m\"\u001b[39m\u001b[39mAvailable matplotlib backends: \u001b[39m\u001b[39m%s\u001b[39;00m\u001b[39m\"\u001b[39m \u001b[39m%\u001b[39m backends_list)\n\u001b[0;32m     98\u001b[0m \u001b[39melse\u001b[39;00m:\n\u001b[1;32m---> 99\u001b[0m     gui, backend \u001b[39m=\u001b[39m \u001b[39mself\u001b[39;49m\u001b[39m.\u001b[39;49mshell\u001b[39m.\u001b[39;49menable_matplotlib(args\u001b[39m.\u001b[39;49mgui\u001b[39m.\u001b[39;49mlower() \u001b[39mif\u001b[39;49;00m \u001b[39misinstance\u001b[39;49m(args\u001b[39m.\u001b[39;49mgui, \u001b[39mstr\u001b[39;49m) \u001b[39melse\u001b[39;49;00m args\u001b[39m.\u001b[39;49mgui)\n\u001b[0;32m    100\u001b[0m     \u001b[39mself\u001b[39m\u001b[39m.\u001b[39m_show_matplotlib_backend(args\u001b[39m.\u001b[39mgui, backend)\n",
      "File \u001b[1;32mc:\\Users\\kust\\miniconda3\\lib\\site-packages\\IPython\\core\\interactiveshell.py:3603\u001b[0m, in \u001b[0;36mInteractiveShell.enable_matplotlib\u001b[1;34m(self, gui)\u001b[0m\n\u001b[0;32m   3599\u001b[0m         \u001b[39mprint\u001b[39m(\u001b[39m'\u001b[39m\u001b[39mWarning: Cannot change to a different GUI toolkit: \u001b[39m\u001b[39m%s\u001b[39;00m\u001b[39m.\u001b[39m\u001b[39m'\u001b[39m\n\u001b[0;32m   3600\u001b[0m                 \u001b[39m'\u001b[39m\u001b[39m Using \u001b[39m\u001b[39m%s\u001b[39;00m\u001b[39m instead.\u001b[39m\u001b[39m'\u001b[39m \u001b[39m%\u001b[39m (gui, \u001b[39mself\u001b[39m\u001b[39m.\u001b[39mpylab_gui_select))\n\u001b[0;32m   3601\u001b[0m         gui, backend \u001b[39m=\u001b[39m pt\u001b[39m.\u001b[39mfind_gui_and_backend(\u001b[39mself\u001b[39m\u001b[39m.\u001b[39mpylab_gui_select)\n\u001b[1;32m-> 3603\u001b[0m pt\u001b[39m.\u001b[39;49mactivate_matplotlib(backend)\n\u001b[0;32m   3604\u001b[0m configure_inline_support(\u001b[39mself\u001b[39m, backend)\n\u001b[0;32m   3606\u001b[0m \u001b[39m# Now we must activate the gui pylab wants to use, and fix %run to take\u001b[39;00m\n\u001b[0;32m   3607\u001b[0m \u001b[39m# plot updates into account\u001b[39;00m\n",
      "File \u001b[1;32mc:\\Users\\kust\\miniconda3\\lib\\site-packages\\IPython\\core\\pylabtools.py:360\u001b[0m, in \u001b[0;36mactivate_matplotlib\u001b[1;34m(backend)\u001b[0m\n\u001b[0;32m    355\u001b[0m \u001b[39m# Due to circular imports, pyplot may be only partially initialised\u001b[39;00m\n\u001b[0;32m    356\u001b[0m \u001b[39m# when this function runs.\u001b[39;00m\n\u001b[0;32m    357\u001b[0m \u001b[39m# So avoid needing matplotlib attribute-lookup to access pyplot.\u001b[39;00m\n\u001b[0;32m    358\u001b[0m \u001b[39mfrom\u001b[39;00m \u001b[39mmatplotlib\u001b[39;00m \u001b[39mimport\u001b[39;00m pyplot \u001b[39mas\u001b[39;00m plt\n\u001b[1;32m--> 360\u001b[0m plt\u001b[39m.\u001b[39;49mswitch_backend(backend)\n\u001b[0;32m    362\u001b[0m plt\u001b[39m.\u001b[39mshow\u001b[39m.\u001b[39m_needmain \u001b[39m=\u001b[39m \u001b[39mFalse\u001b[39;00m\n\u001b[0;32m    363\u001b[0m \u001b[39m# We need to detect at runtime whether show() is called by the user.\u001b[39;00m\n\u001b[0;32m    364\u001b[0m \u001b[39m# For this, we wrap it into a decorator which adds a 'called' flag.\u001b[39;00m\n",
      "File \u001b[1;32mc:\\Users\\kust\\miniconda3\\lib\\site-packages\\matplotlib\\pyplot.py:271\u001b[0m, in \u001b[0;36mswitch_backend\u001b[1;34m(newbackend)\u001b[0m\n\u001b[0;32m    268\u001b[0m \u001b[39m# have to escape the switch on access logic\u001b[39;00m\n\u001b[0;32m    269\u001b[0m old_backend \u001b[39m=\u001b[39m \u001b[39mdict\u001b[39m\u001b[39m.\u001b[39m\u001b[39m__getitem__\u001b[39m(rcParams, \u001b[39m'\u001b[39m\u001b[39mbackend\u001b[39m\u001b[39m'\u001b[39m)\n\u001b[1;32m--> 271\u001b[0m backend_mod \u001b[39m=\u001b[39m importlib\u001b[39m.\u001b[39;49mimport_module(\n\u001b[0;32m    272\u001b[0m     cbook\u001b[39m.\u001b[39;49m_backend_module_name(newbackend))\n\u001b[0;32m    274\u001b[0m required_framework \u001b[39m=\u001b[39m _get_required_interactive_framework(backend_mod)\n\u001b[0;32m    275\u001b[0m \u001b[39mif\u001b[39;00m required_framework \u001b[39mis\u001b[39;00m \u001b[39mnot\u001b[39;00m \u001b[39mNone\u001b[39;00m:\n",
      "File \u001b[1;32mc:\\Users\\kust\\miniconda3\\lib\\importlib\\__init__.py:126\u001b[0m, in \u001b[0;36mimport_module\u001b[1;34m(name, package)\u001b[0m\n\u001b[0;32m    124\u001b[0m             \u001b[39mbreak\u001b[39;00m\n\u001b[0;32m    125\u001b[0m         level \u001b[39m+\u001b[39m\u001b[39m=\u001b[39m \u001b[39m1\u001b[39m\n\u001b[1;32m--> 126\u001b[0m \u001b[39mreturn\u001b[39;00m _bootstrap\u001b[39m.\u001b[39;49m_gcd_import(name[level:], package, level)\n",
      "File \u001b[1;32m<frozen importlib._bootstrap>:1050\u001b[0m, in \u001b[0;36m_gcd_import\u001b[1;34m(name, package, level)\u001b[0m\n",
      "File \u001b[1;32m<frozen importlib._bootstrap>:1027\u001b[0m, in \u001b[0;36m_find_and_load\u001b[1;34m(name, import_)\u001b[0m\n",
      "File \u001b[1;32m<frozen importlib._bootstrap>:992\u001b[0m, in \u001b[0;36m_find_and_load_unlocked\u001b[1;34m(name, import_)\u001b[0m\n",
      "File \u001b[1;32m<frozen importlib._bootstrap>:241\u001b[0m, in \u001b[0;36m_call_with_frames_removed\u001b[1;34m(f, *args, **kwds)\u001b[0m\n",
      "File \u001b[1;32m<frozen importlib._bootstrap>:1050\u001b[0m, in \u001b[0;36m_gcd_import\u001b[1;34m(name, package, level)\u001b[0m\n",
      "File \u001b[1;32m<frozen importlib._bootstrap>:1027\u001b[0m, in \u001b[0;36m_find_and_load\u001b[1;34m(name, import_)\u001b[0m\n",
      "File \u001b[1;32m<frozen importlib._bootstrap>:1004\u001b[0m, in \u001b[0;36m_find_and_load_unlocked\u001b[1;34m(name, import_)\u001b[0m\n",
      "\u001b[1;31mModuleNotFoundError\u001b[0m: No module named 'ipympl'"
     ]
    }
   ],
   "source": [
    "%load_ext autoreload\n",
    "%autoreload 2\n",
    "%matplotlib widget"
   ]
  },
  {
   "cell_type": "code",
   "execution_count": 3,
   "metadata": {},
   "outputs": [],
   "source": [
    "import numpy as np\n",
    "import matplotlib.pyplot as plt\n",
    "from matplotlib.gridspec import GridSpec\n",
    "from matplotlib.animation import FuncAnimation\n",
    "import pandas as pd\n",
    "import math\n",
    "import tensorflow as tf\n",
    "from lib.pinn import PINN\n",
    "from lib.network import Network\n",
    "import pathlib\n",
    "import os\n",
    "os.environ['TF_CPP_MIN_LOG_LEVEL'] = '3'\n",
    "np.set_printoptions(precision=3, suppress=True) "
   ]
  },
  {
   "cell_type": "code",
   "execution_count": 4,
   "metadata": {},
   "outputs": [],
   "source": [
    "# number of test samples\n",
    "num_test_samples = 10\n",
    "\n",
    "# system parameters\n",
    "from parameters import p"
   ]
  },
  {
   "cell_type": "code",
   "execution_count": 5,
   "metadata": {},
   "outputs": [],
   "source": [
    "network = Network.build(**p)\n",
    "\n",
    "pinn = PINN(network, **p).build(**p)\n",
    "pinn.compile(optimizer='adam', loss='mse')\n",
    "if pathlib.Path(\"weights.h5\").exists():\n",
    "    pinn.load_weights(\"weights.h5\")"
   ]
  },
  {
   "cell_type": "code",
   "execution_count": 13,
   "metadata": {},
   "outputs": [
    {
     "name": "stdout",
     "output_type": "stream",
     "text": [
      "31250/31250 [==============================] - 142s 5ms/step - loss: 4.8213e-04 - dense_3_loss: 1.1897e-04 - dense_4_loss: 2.8649e-04 - dense_5_loss: 7.6658e-05\n"
     ]
    },
    {
     "data": {
      "text/plain": [
       "<keras.callbacks.History at 0x16ccfe09330>"
      ]
     },
     "execution_count": 13,
     "metadata": {},
     "output_type": "execute_result"
    }
   ],
   "source": [
    "x_train = tf.convert_to_tensor(np.random.rand(1000000, 1+p[\"dim\"]) * p[\"max_dim\"])\n",
    "y = [tf.constant(0)]*3\n",
    "network.compile(optimizer='adam', loss='mse')\n",
    "y = np.zeros((1000000, 1))\n",
    "network.fit(x_train, y)"
   ]
  },
  {
   "cell_type": "code",
   "execution_count": 22,
   "metadata": {},
   "outputs": [
    {
     "name": "stdout",
     "output_type": "stream",
     "text": [
      "[10000, 8000, 5000, 4000, 3000, 2000, 1000, 500, 100, 10, 1]\n",
      "cpu time took: 5.1940\n",
      "cpu time took: 2.5940\n",
      "cpu time took: 0.7590\n",
      "cpu time took: 0.4250\n",
      "cpu time took: 0.2310\n",
      "cpu time took: 0.0950\n",
      "cpu time took: 0.0370\n",
      "cpu time took: 0.0220\n",
      "cpu time took: 0.0190\n",
      "cpu time took: 0.0140\n",
      "cpu time took: 0.0140\n",
      "gpu time took: 0.5160\n",
      "gpu time took: 0.1610\n",
      "gpu time took: 0.0560\n",
      "gpu time took: 0.0370\n",
      "gpu time took: 0.0250\n",
      "gpu time took: 0.0190\n",
      "gpu time took: 0.0150\n",
      "gpu time took: 0.0140\n",
      "gpu time took: 0.0140\n",
      "gpu time took: 0.0140\n",
      "gpu time took: 0.0140\n"
     ]
    },
    {
     "data": {
      "image/png": "[encoded data removed]",
      "text/plain": [
       "<Figure size 800x600 with 1 Axes>"
      ]
     },
     "metadata": {},
     "output_type": "display_data"
    }
   ],
   "source": [
    "import tensorflow as tf\n",
    "import time\n",
    "import matplotlib.pyplot as plt\n",
    "\n",
    "#something of an extra or the below code will produce an error as \"Tensor.graph is undefined when eager execution is enabled.\"\n",
    "#this code is needed to not let tensorflow produce error for the cpu part of code or the gpu part.\n",
    "#the reason for this error is because Session does not work with either eager execution or tf.function, and you should not invoke it directly.\n",
    "\n",
    "tf.compat.v1.disable_eager_execution()\n",
    "\n",
    "cpu_times = []\n",
    "sizes = [1, 10, 100, 500, 1000, 2000, 3000, 4000, 5000, 8000, 10000]\n",
    "sizes.reverse()\n",
    "print(sizes)\n",
    "for size in sizes:\n",
    "    tf.compat.v1.reset_default_graph()\n",
    "    start = time.time()\n",
    "    with tf.device('cpu:0'):\n",
    "        v1 = tf.Variable(tf.random.normal((size, size)))\n",
    "        v2 = tf.Variable(tf.random.normal((size, size)))\n",
    "        op = tf.matmul(v1, v2)\n",
    "\n",
    "    with tf.compat.v1.Session() as sess:\n",
    "        sess.run(tf.compat.v1.global_variables_initializer())\n",
    "        sess.run(op)\n",
    "    cpu_times.append(time.time() - start)\n",
    "    print(f'cpu time took: {time.time() - start:.4f}')\n",
    "\n",
    "gpu_times = []\n",
    "for size in sizes:\n",
    "    tf.compat.v1.reset_default_graph()\n",
    "    start = time.time()\n",
    "    with tf.device('gpu:0'):\n",
    "        v1 = tf.Variable(tf.random.normal((size, size)))\n",
    "        v2 = tf.Variable(tf.random.normal((size, size)))\n",
    "        op = tf.matmul(v1, v2)\n",
    "\n",
    "    with tf.compat.v1.Session() as sess:\n",
    "        sess.run(tf.compat.v1.global_variables_initializer())\n",
    "        sess.run(op)\n",
    "    gpu_times.append(time.time() - start)\n",
    "    print(f'gpu time took: {time.time() - start:.4f}')\n",
    "\n",
    "fig, ax = plt.subplots(figsize=(8, 6))\n",
    "ax.plot(sizes, gpu_times, label='GPU')\n",
    "ax.plot(sizes, cpu_times, label='CPU')\n",
    "plt.xlabel('MATRIX SIZE')\n",
    "plt.ylabel('TIME (sec)')\n",
    "plt.legend()\n",
    "plt.show()"
   ]
  },
  {
   "cell_type": "code",
   "execution_count": 1,
   "metadata": {},
   "outputs": [
    {
     "ename": "NameError",
     "evalue": "name 'p' is not defined",
     "output_type": "error",
     "traceback": [
      "\u001b[1;31m---------------------------------------------------------------------------\u001b[0m",
      "\u001b[1;31mNameError\u001b[0m                                 Traceback (most recent call last)",
      "Cell \u001b[1;32mIn[1], line 4\u001b[0m\n\u001b[0;32m      1\u001b[0m epochs\u001b[38;5;241m=\u001b[39m\u001b[38;5;241m1000\u001b[39m\n\u001b[0;32m      2\u001b[0m n_train_samples \u001b[38;5;241m=\u001b[39m \u001b[38;5;241m100000\u001b[39m\n\u001b[1;32m----> 4\u001b[0m max_d \u001b[38;5;241m=\u001b[39m \u001b[43mp\u001b[49m[\u001b[38;5;124m\"\u001b[39m\u001b[38;5;124mmax_dim\u001b[39m\u001b[38;5;124m\"\u001b[39m][\u001b[38;5;241m0\u001b[39m:p[\u001b[38;5;124m\"\u001b[39m\u001b[38;5;124mdim\u001b[39m\u001b[38;5;124m\"\u001b[39m]\u001b[38;5;241m+\u001b[39m\u001b[38;5;241m1\u001b[39m]\n\u001b[0;32m      6\u001b[0m x_train \u001b[38;5;241m=\u001b[39m tf\u001b[38;5;241m.\u001b[39mconvert_to_tensor(np\u001b[38;5;241m.\u001b[39mrandom\u001b[38;5;241m.\u001b[39mrand(n_train_samples, \u001b[38;5;241m1\u001b[39m\u001b[38;5;241m+\u001b[39mp[\u001b[38;5;124m\"\u001b[39m\u001b[38;5;124mdim\u001b[39m\u001b[38;5;124m\"\u001b[39m]) \u001b[38;5;241m*\u001b[39m max_d)\n\u001b[0;32m      7\u001b[0m x_train_left \u001b[38;5;241m=\u001b[39m tf\u001b[38;5;241m.\u001b[39mconvert_to_tensor(np\u001b[38;5;241m.\u001b[39mrandom\u001b[38;5;241m.\u001b[39mrand(n_train_samples, \u001b[38;5;241m1\u001b[39m\u001b[38;5;241m+\u001b[39mp[\u001b[38;5;124m\"\u001b[39m\u001b[38;5;124mdim\u001b[39m\u001b[38;5;124m\"\u001b[39m]) \u001b[38;5;241m*\u001b[39m max_d)\n",
      "\u001b[1;31mNameError\u001b[0m: name 'p' is not defined"
     ]
    }
   ],
   "source": [
    "epochs=1000\n",
    "n_train_samples = 100000\n",
    "\n",
    "max_d = p[\"max_dim\"][0:p[\"dim\"]+1]\n",
    "\n",
    "x_train = tf.convert_to_tensor(np.random.rand(n_train_samples, 1+p[\"dim\"]) * max_d)\n",
    "x_train_left = tf.convert_to_tensor(np.random.rand(n_train_samples, 1+p[\"dim\"]) * max_d)\n",
    "x_train_left[:,1] = 0\n",
    "x_train_right = tf.convert_to_tensor(np.random.rand(n_train_samples, 1+p[\"dim\"]) * max_d)\n",
    "x_train_right[:,1] = 0\n",
    "x=[x_train, x_train_left, x_train_right]\n",
    "\n",
    "y = tf.convert_to_tensor([np.zeros((n_train_samples, 1))] * len(pinn.output_shape))\n"
   ]
  },
  {
   "cell_type": "code",
   "execution_count": null,
   "metadata": {},
   "outputs": [],
   "source": [
    "pinn.fit(x=x, y=y, epochs=epochs)\n",
    "# pinn.save_weights('weights.h5')\n"
   ]
  },
  {
   "cell_type": "code",
   "execution_count": null,
   "metadata": {},
   "outputs": [],
   "source": [
    "num_test_samples = 30\n",
    "dims = np.linspace(np.zeros(p[\"dim\"]+1), p[\"max_dim\"], num_test_samples).T\n",
    "dims = np.split(dims.flatten(), p[\"dim\"]+1)\n",
    "mdims = np.meshgrid(*dims)\n",
    "txyz = np.stack([mdim.flatten() for mdim in mdims], axis=-1)"
   ]
  },
  {
   "cell_type": "code",
   "execution_count": null,
   "metadata": {},
   "outputs": [],
   "source": [
    "c, v, Fi = network.predict(txyz, batch_size=num_test_samples)"
   ]
  },
  {
   "cell_type": "code",
   "execution_count": null,
   "metadata": {},
   "outputs": [],
   "source": [
    "c = c.reshape(mdims[0].shape)\n",
    "time_t = 20\n",
    "fig = plt.figure(figsize=(16, 4.5))\n",
    "\n",
    "ax1 = fig.add_subplot(131,projection=\"3d\")\n",
    "# ax1.plot(dims[1], c[(0, slice(None),) + tuple(int(d/2) for d in p[\"max_dim\"][2:])])\n",
    "ax1.plot_surface(*np.meshgrid(dims[1], dims[2]), c[0])\n",
    "ax1.set_xlabel(\"x\")\n",
    "ax1.set_ylabel(\"y\")\n",
    "ax1.set_zlabel(\"c\")\n",
    "\n",
    "ax2 = fig.add_subplot(132,projection=\"3d\")\n",
    "# ax1.plot(dims[1], c[(0, slice(None),) + tuple(int(d/2) for d in p[\"max_dim\"][2:])])\n",
    "ax2.plot_surface(*np.meshgrid(dims[1], dims[2]), c[10])\n",
    "ax2.set_xlabel(\"x\")\n",
    "ax2.set_ylabel(\"y\")\n",
    "ax2.set_zlabel(\"c\")\n",
    "\n",
    "ax3 = fig.add_subplot(133,projection=\"3d\")\n",
    "# ax1.plot(dims[1], c[(0, slice(None),) + tuple(int(d/2) for d in p[\"max_dim\"][2:])])\n",
    "ax3.plot_surface(*np.meshgrid(dims[1], dims[2]), c[20])\n",
    "ax3.set_xlabel(\"x\")\n",
    "ax3.set_ylabel(\"y\")\n",
    "ax3.set_zlabel(\"c\")\n",
    "\n",
    "# ax2 = fig.add_subplot(132)\n",
    "# xx, yy = np.meshgrid(x_flat, y_flat)\n",
    "# v = v.reshape(t.shape + (3,))\n",
    "# v_xy = v[time_t, :, :, int(p[\"max_z\"]/2), 0:2]\n",
    "# ax2.quiver(xx, yy, v_xy[..., 0], v_xy[..., 1])\n",
    "\n",
    "# ax3 = fig.add_subplot(133)\n",
    "# ax3.plot(x_flat, v[time_t, :, int(p[\"max_y\"]/2), int(p[\"max_z\"]/2), 0])\n",
    "\n",
    "plt.show()\n"
   ]
  },
  {
   "cell_type": "code",
   "execution_count": null,
   "metadata": {},
   "outputs": [],
   "source": [
    "network(np.array([[p[\"max_t\"], p[\"max_x\"], p[\"max_y\"], p[\"max_z\"]]]))"
   ]
  },
  {
   "cell_type": "code",
   "execution_count": null,
   "metadata": {},
   "outputs": [],
   "source": [
    "np.meshgrid(np.zeros(2), np.zeros(3))"
   ]
  },
  {
   "cell_type": "code",
   "execution_count": null,
   "metadata": {},
   "outputs": [],
   "source": [
    "n_test_samples = 2\n",
    "max_d = np.array([p[\"max_t\"], p[\"max_x\"], p[\"max_y\"], p[\"max_z\"]])\n",
    "x_train = np.random.rand(n_test_samples, 4) * max_d\n",
    "x_train_left = np.random.rand(n_test_samples, 4) * max_d\n",
    "x_train_left[:,1] = 0\n",
    "x_train_right = np.random.rand(n_test_samples, 4) * max_d\n",
    "x_train_right[:,1] = 0\n",
    "x=[x_train, x_train_left, x_train_right]\n",
    "for i, xx in enumerate(pinn(x)):\n",
    "    print(i, \":\", xx.shape)\n"
   ]
  }
 ],
 "metadata": {
  "kernelspec": {
   "display_name": "Python 3.10.10",
   "language": "python",
   "name": "python3"
  },
  "language_info": {
   "codemirror_mode": {
    "name": "ipython",
    "version": 3
   },
   "file_extension": ".py",
   "mimetype": "text/x-python",
   "name": "python",
   "nbconvert_exporter": "python",
   "pygments_lexer": "ipython3",
   "version": "3.10.10"
  },
  "orig_nbformat": 4,
  "vscode": {
   "interpreter": {
    "hash": "34c4a4018a9816b554ae9e673a0484548d58a15e46f3f4767849a2ff212fb50e"
   }
  }
 },
 "nbformat": 4,
 "nbformat_minor": 2
}
